{
 "cells": [
  {
   "cell_type": "code",
   "execution_count": 55,
   "id": "47c52497-1e91-4198-8fec-8db910176f97",
   "metadata": {},
   "outputs": [
    {
     "data": {
      "text/plain": [
       "'\\nPrograma: calc_soma\\nDescrição: Soma 2 números à escolha do usuário\\nAutor: Filipe Eich\\nData: 25/02/2025\\nVersao: 0.0.1\\n\\n'"
      ]
     },
     "execution_count": 55,
     "metadata": {},
     "output_type": "execute_result"
    }
   ],
   "source": [
    "\"\"\"\n",
    "Programa: calc_soma\n",
    "Descrição: Soma 2 números à escolha do usuário\n",
    "Autor: Filipe Eich\n",
    "Data: 25/02/2025\n",
    "Versao: 0.0.1\n",
    "\n",
    "\"\"\"\n"
   ]
  },
  {
   "cell_type": "code",
   "execution_count": 57,
   "id": "cb7ee8ec-0174-44c2-aa63-65d21ddda984",
   "metadata": {},
   "outputs": [],
   "source": [
    "#Alocaçao de memoria\n",
    "\n",
    "var1=\"\"\n",
    "var2=\"\""
   ]
  },
  {
   "cell_type": "code",
   "execution_count": 59,
   "id": "0d21f1db-055d-4302-9c1d-962fcbf4381b",
   "metadata": {},
   "outputs": [
    {
     "name": "stdin",
     "output_type": "stream",
     "text": [
      "\n",
      "Olá! Vamos somar dois números? Digite o primeiro número de sua escolha:  4\n",
      "\n",
      "Perfeito, registrado. Agora digite o segundo número de sua escolha:  2\n"
     ]
    }
   ],
   "source": [
    "#Entrada de dados\n",
    "\n",
    "var1 = int(input(\"\\nOlá! Vamos somar dois números? Digite o primeiro número de sua escolha: \"))\n",
    "\n",
    "var2 = int(input(\"\\nPerfeito, registrado. Agora digite o segundo número de sua escolha: \"))"
   ]
  },
  {
   "cell_type": "code",
   "execution_count": 61,
   "id": "486072f9-354a-46fe-95d8-a223bdc2824a",
   "metadata": {},
   "outputs": [],
   "source": [
    "# Processamento de dados\n",
    "\n",
    "soma=var1+var2"
   ]
  },
  {
   "cell_type": "code",
   "execution_count": 63,
   "id": "cdd7a09d-d3fe-492e-9b9d-6bbe5495a360",
   "metadata": {},
   "outputs": [
    {
     "name": "stdout",
     "output_type": "stream",
     "text": [
      "\n",
      "A soma dos números é: 6\n"
     ]
    }
   ],
   "source": [
    "print(f\"\\nA soma dos números é: {soma}\")"
   ]
  },
  {
   "cell_type": "code",
   "execution_count": null,
   "id": "522bb74d-42ed-4c01-a855-4904a89b9d6a",
   "metadata": {},
   "outputs": [],
   "source": []
  }
 ],
 "metadata": {
  "kernelspec": {
   "display_name": "Python [conda env:base] *",
   "language": "python",
   "name": "conda-base-py"
  },
  "language_info": {
   "codemirror_mode": {
    "name": "ipython",
    "version": 3
   },
   "file_extension": ".py",
   "mimetype": "text/x-python",
   "name": "python",
   "nbconvert_exporter": "python",
   "pygments_lexer": "ipython3",
   "version": "3.12.7"
  }
 },
 "nbformat": 4,
 "nbformat_minor": 5
}
